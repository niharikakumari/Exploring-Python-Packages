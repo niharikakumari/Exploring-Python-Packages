{
 "cells": [
  {
   "cell_type": "code",
   "execution_count": 2,
   "metadata": {},
   "outputs": [],
   "source": [
    "import rsgislib"
   ]
  },
  {
   "cell_type": "code",
   "execution_count": 13,
   "metadata": {},
   "outputs": [
    {
     "ename": "error",
     "evalue": "Could not open vector file C:\\Users\\niharika.a.kumari\\OneDrive - Accenture\\Capital\\PG&E\\bounding_box_utm.shp",
     "output_type": "error",
     "traceback": [
      "\u001b[1;31m---------------------------------------------------------------------------\u001b[0m",
      "\u001b[1;31merror\u001b[0m                                     Traceback (most recent call last)",
      "\u001b[1;32m<ipython-input-13-04f4e270bb99>\u001b[0m in \u001b[0;36m<module>\u001b[1;34m\u001b[0m\n\u001b[0;32m     11\u001b[0m \u001b[1;33m\u001b[0m\u001b[0m\n\u001b[0;32m     12\u001b[0m \u001b[1;31m# Subset image\u001b[0m\u001b[1;33m\u001b[0m\u001b[1;33m\u001b[0m\u001b[1;33m\u001b[0m\u001b[0m\n\u001b[1;32m---> 13\u001b[1;33m \u001b[0mimageutils\u001b[0m\u001b[1;33m.\u001b[0m\u001b[0msubset\u001b[0m\u001b[1;33m(\u001b[0m\u001b[0minputImage\u001b[0m\u001b[1;33m,\u001b[0m \u001b[0minputVector\u001b[0m\u001b[1;33m,\u001b[0m \u001b[0moutputImage\u001b[0m\u001b[1;33m,\u001b[0m \u001b[0moutFormat\u001b[0m\u001b[1;33m,\u001b[0m \u001b[0moutType\u001b[0m\u001b[1;33m)\u001b[0m\u001b[1;33m\u001b[0m\u001b[1;33m\u001b[0m\u001b[0m\n\u001b[0m",
      "\u001b[1;31merror\u001b[0m: Could not open vector file C:\\Users\\niharika.a.kumari\\OneDrive - Accenture\\Capital\\PG&E\\bounding_box_utm.shp"
     ]
    }
   ],
   "source": [
    "# Import required RSGISLib modules\n",
    "import rsgislib\n",
    "from rsgislib import imageutils\n",
    "# Create variables for input and output datasets\n",
    "inputImage = 'N06W053_JERS1_96_HH_utm.kea'\n",
    "inputVector = 'bounding_box_utm.shp'\n",
    "outputImage = 'N06W053_JERS1_96_HH_utm_sub.kea'\n",
    "# Set out data type and format\n",
    "outFormat = 'KEA'\n",
    "outType = rsgislib.TYPE_32UINT\n",
    "\n",
    "# Subset image\n",
    "imageutils.subset(inputImage, inputVector, outputImage, outFormat, outType)"
   ]
  },
  {
   "cell_type": "code",
   "execution_count": 9,
   "metadata": {},
   "outputs": [
    {
     "name": "stdout",
     "output_type": "stream",
     "text": [
      "Help on built-in function subset in module rsgislib.imageutils._imageutils:\n",
      "\n",
      "subset(...)\n",
      "    rsgislib.imageutils.subset(inputimage, inputvector, outputimage, gdalformat, datatype)\n",
      "    Subset an image to the bounding box of a vector.\n",
      "    \n",
      "    Where:\n",
      "    \n",
      "    * inputimage is a string providing the name of the input file.\n",
      "    * inputvector is a string providing the vector which the image is to be clipped to. \n",
      "    * outputimage is a string providing the output image. \n",
      "    * gdalformat is a string providing the gdalformat of the output image (e.g., KEA).\n",
      "    * datatype is a rsgislib.TYPE_* value providing the data type of the output image.\n",
      "    \n",
      "    Example::\n",
      "    \n",
      "       import rsgislib\n",
      "       from rsgislib import imageutils\n",
      "       inputImage = './Rasters/injune_p142_casi_sub_utm.kea'\n",
      "       inputVector = './Vectors/injune_p142_plot_location_utm.shp'\n",
      "       outputImage = './TestOutputs/injune_p142_casi_sub_utm_subset.kea'\n",
      "       gdalformat = 'KEA'\n",
      "       datatype = rsgislib.TYPE_32FLOAT\n",
      "       imageutils.subset(inputImage, inputVector, outputImage, gdalformat, datatype)\n",
      "\n"
     ]
    }
   ],
   "source": [
    "help(imageutils.subset)"
   ]
  },
  {
   "cell_type": "code",
   "execution_count": 18,
   "metadata": {},
   "outputs": [
    {
     "ename": "error",
     "evalue": "Could not open image N06W053_JERS1_96_HH_utm_stack_lee.kea",
     "output_type": "error",
     "traceback": [
      "\u001b[1;31m---------------------------------------------------------------------------\u001b[0m",
      "\u001b[1;31merror\u001b[0m                                     Traceback (most recent call last)",
      "\u001b[1;32m<ipython-input-18-fa47b2885d07>\u001b[0m in \u001b[0;36m<module>\u001b[1;34m\u001b[0m\n\u001b[0;32m     24\u001b[0m \u001b[1;31m# Calculate stats and pyramids (for fast display)\u001b[0m\u001b[1;33m\u001b[0m\u001b[1;33m\u001b[0m\u001b[1;33m\u001b[0m\u001b[0m\n\u001b[0;32m     25\u001b[0m \u001b[0moutputImage\u001b[0m \u001b[1;33m=\u001b[0m \u001b[0moutputImageBase\u001b[0m \u001b[1;33m+\u001b[0m \u001b[1;34m'_lee.'\u001b[0m \u001b[1;33m+\u001b[0m \u001b[0moutExt\u001b[0m\u001b[1;33m\u001b[0m\u001b[1;33m\u001b[0m\u001b[0m\n\u001b[1;32m---> 26\u001b[1;33m \u001b[0mimageutils\u001b[0m\u001b[1;33m.\u001b[0m\u001b[0mpopImageStats\u001b[0m\u001b[1;33m(\u001b[0m\u001b[0moutputImage\u001b[0m\u001b[1;33m,\u001b[0m\u001b[1;32mTrue\u001b[0m\u001b[1;33m,\u001b[0m\u001b[1;36m1.\u001b[0m\u001b[1;33m,\u001b[0m\u001b[1;32mTrue\u001b[0m\u001b[1;33m)\u001b[0m\u001b[1;33m\u001b[0m\u001b[1;33m\u001b[0m\u001b[0m\n\u001b[0m",
      "\u001b[1;31merror\u001b[0m: Could not open image N06W053_JERS1_96_HH_utm_stack_lee.kea"
     ]
    }
   ],
   "source": [
    "#!/usr/bin/env python\n",
    "\n",
    "# Import RSGISLib modules\n",
    "import rsgislib\n",
    "from rsgislib import imagefilter\n",
    "from rsgislib import imageutils\n",
    "# Define input image and output image base\n",
    "inputImage = 'N06W053_JERS1_96_HH_utm.kea'\n",
    "outputImageBase = 'N06W053_JERS1_96_HH_utm_stack'\n",
    "# Set out data type and format\n",
    "outFormat = 'KEA'\n",
    "outType = rsgislib.TYPE_32FLOAT\n",
    "# Set output extension\n",
    "\n",
    "outExt = 'kea'\n",
    "\n",
    "# Set up filter\n",
    "filters = []\n",
    "filters.append(imagefilter.FilterParameters(filterType='Lee',\n",
    "fileEnding='lee', size=3, nLooks=3))\n",
    "# Apply to image\n",
    "imagefilter.applyfilters(inputImage, outputImageBase,\n",
    "filters, outFormat, outExt, outType)\n",
    "# Calculate stats and pyramids (for fast display)\n",
    "outputImage = outputImageBase + '_lee.' + outExt\n",
    "imageutils.popImageStats(outputImage,True,1.,True)"
   ]
  },
  {
   "cell_type": "code",
   "execution_count": 16,
   "metadata": {},
   "outputs": [
    {
     "data": {
      "text/plain": [
       "'N06W053_JERS1_96_HH_utm.kea'"
      ]
     },
     "execution_count": 16,
     "metadata": {},
     "output_type": "execute_result"
    }
   ],
   "source": [
    "inputImage"
   ]
  },
  {
   "cell_type": "code",
   "execution_count": null,
   "metadata": {},
   "outputs": [],
   "source": []
  }
 ],
 "metadata": {
  "kernelspec": {
   "display_name": "Python 3",
   "language": "python",
   "name": "python3"
  },
  "language_info": {
   "codemirror_mode": {
    "name": "ipython",
    "version": 3
   },
   "file_extension": ".py",
   "mimetype": "text/x-python",
   "name": "python",
   "nbconvert_exporter": "python",
   "pygments_lexer": "ipython3",
   "version": "3.6.10"
  }
 },
 "nbformat": 4,
 "nbformat_minor": 4
}
